{
  "cells": [
    {
      "metadata": {
        "trusted": true
      },
      "cell_type": "code",
      "source": "import pandas as pd\nimport numpy as np\nfrom sklearn.externals import joblib\n\ntest_data=pd.read_csv('Models/AW_test.csv')\ntest_data.drop_duplicates(subset='CustomerID',keep='last',inplace=True)\nfeatures=test_data.copy()\nfeatures['age']=(features['BirthDate'].apply(lambda x:x[-4:])).apply(lambda x:2019-np.int64(x))\nfeatures.drop(columns=['CustomerID','Title','FirstName','MiddleName','LastName','City','StateProvinceName','Suffix','AddressLine2','AddressLine1','PostalCode','PhoneNumber','BirthDate'],inplace=True)\n\ndef scale(data,columns,type='min_max'):\n    for col in columns:\n        if(type=='z score'):\n            data[col]=(data[col]-np.mean(data[col]))/(np.std(data[col]))\n        if(type=='min_max'):\n            data[col]=(data[col]-np.min(data[col]))/(np.max(data[col])-np.min(data[col]))\n        if(type=='log'):\n            data[col]=np.log(data[col])\n        if(type=='inverse'):\n            data[col]=(1/data[col])\n    return data       \n   \ndef preperation(data):\n    data['Gender'].replace({'M':0.9,'F':0.1},inplace=True)\n    data['NumberChildrenAtHome'].replace({0:0.1,1:0.3,2:0.5,3:0.7,4:0.9,5:1.1},inplace=True)\n\n    data['s_age']=data['Gender']*data['YearlyIncome']/data['age']*data['NumberChildrenAtHome']\n    data['old']=data['age'].apply(lambda x:0 if x<=60 else 1)\n    data['gnch']=data['Gender']*data['NumberChildrenAtHome']\n    \n    data['NumberChildrenAtHome'].replace({1:0,2:1,3:1,4:1,5:1},inplace=True)\n    data['NumberCarsOwned'].replace({1:0,2:0,3:1,4:1},inplace=True)\n    data['TotalChildren'].replace({1:0,2:0,3:1,4:1,5:1},inplace=True)\n    \n    data=pd.get_dummies(data)\n    data=scale(data,columns=['s_age'],type='log')\n    data=scale(data,data.select_dtypes('int64','float64'))\n    \n    return data\n\nfeatures=preperation(features)\n\nreg_model=joblib.load('reg_model.sav')\ntest_data['Avarage Monthly Spending']=reg_model.predict(features)\n\nclass_model=joblib.load('class_model.sav')\ntest_data['Bike Buyer']=class_model.predict(features)\n\ntest_data.to_csv('Result.csv')",
      "execution_count": 3,
      "outputs": []
    }
  ],
  "metadata": {
    "kernelspec": {
      "name": "python36",
      "display_name": "Python 3.6",
      "language": "python"
    },
    "language_info": {
      "mimetype": "text/x-python",
      "nbconvert_exporter": "python",
      "name": "python",
      "pygments_lexer": "ipython3",
      "version": "3.6.6",
      "file_extension": ".py",
      "codemirror_mode": {
        "version": 3,
        "name": "ipython"
      }
    }
  },
  "nbformat": 4,
  "nbformat_minor": 2
}
